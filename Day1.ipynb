{
  "nbformat": 4,
  "nbformat_minor": 0,
  "metadata": {
    "colab": {
      "name": "Untitled1.ipynb",
      "provenance": [],
      "authorship_tag": "ABX9TyOuT9mWMUaOuZ3LGCV6REB6",
      "include_colab_link": true
    },
    "kernelspec": {
      "name": "python3",
      "display_name": "Python 3"
    },
    "language_info": {
      "name": "python"
    }
  },
  "cells": [
    {
      "cell_type": "markdown",
      "metadata": {
        "id": "view-in-github",
        "colab_type": "text"
      },
      "source": [
        "<a href=\"https://colab.research.google.com/github/HyndaviRaj/Assignment-Day1/blob/main/Day1.ipynb\" target=\"_parent\"><img src=\"https://colab.research.google.com/assets/colab-badge.svg\" alt=\"Open In Colab\"/></a>"
      ]
    },
    {
      "cell_type": "code",
      "metadata": {
        "colab": {
          "base_uri": "https://localhost:8080/"
        },
        "id": "sURhTYq76eTz",
        "outputId": "30c55034-abd2-41ec-8851-76b1d718a5ad"
      },
      "source": [
        "val = [int(l) for l in input('enter values:').split()]\n",
        "val.sort()\n",
        "val.reverse()\n",
        "print(val)"
      ],
      "execution_count": 6,
      "outputs": [
        {
          "output_type": "stream",
          "text": [
            "enter values:12 3 16 2 8 5 30\n",
            "[30, 16, 12, 8, 5, 3, 2]\n"
          ],
          "name": "stdout"
        }
      ]
    }
  ]
}