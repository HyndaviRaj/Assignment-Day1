{
  "nbformat": 4,
  "nbformat_minor": 0,
  "metadata": {
    "colab": {
      "name": "Untitled3.ipynb",
      "provenance": [],
      "toc_visible": true,
      "authorship_tag": "ABX9TyO3Iosik2gxUeODx7hBbZAT",
      "include_colab_link": true
    },
    "kernelspec": {
      "name": "python3",
      "display_name": "Python 3"
    },
    "language_info": {
      "name": "python"
    }
  },
  "cells": [
    {
      "cell_type": "markdown",
      "metadata": {
        "id": "view-in-github",
        "colab_type": "text"
      },
      "source": [
        "<a href=\"https://colab.research.google.com/github/HyndaviRaj/Assignment-Day1/blob/main/Day2.ipynb\" target=\"_parent\"><img src=\"https://colab.research.google.com/assets/colab-badge.svg\" alt=\"Open In Colab\"/></a>"
      ]
    },
    {
      "cell_type": "code",
      "metadata": {
        "colab": {
          "base_uri": "https://localhost:8080/"
        },
        "id": "bwDxzynWpycD",
        "outputId": "b2fbf39d-4f85-429e-bec2-07f480865c31"
      },
      "source": [
        "def remove_items(num_list, item):\n",
        "      \n",
        "    for i in num_list:\n",
        "        if(i == item):\n",
        "            num_list.remove(i)\n",
        "  \n",
        "    return num_list\n",
        "  \n",
        "\n",
        "if __name__==\"__main__\":\n",
        "      \n",
        "    num_list = [1, 3, 4, 6, 5, 4]\n",
        "  \n",
        "    item = int(input('enter value to be removed: '))\n",
        "  \n",
        "    print (\"Given list is : \" + str(num_list))\n",
        "  \n",
        "    res = remove_items(num_list, item)\n",
        "  \n",
        "    print (\"after performing the remove operation : \" + str(res))"
      ],
      "execution_count": null,
      "outputs": [
        {
          "output_type": "stream",
          "text": [
            "enter value to be removed: 5\n",
            "Given list is : [1, 3, 4, 6, 5, 4]\n",
            "after performing the remove operation : [1, 3, 4, 6, 4]\n"
          ],
          "name": "stdout"
        }
      ]
    }
  ]
}