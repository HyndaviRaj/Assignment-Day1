{
  "nbformat": 4,
  "nbformat_minor": 0,
  "metadata": {
    "colab": {
      "name": "Untitled4.ipynb",
      "provenance": [],
      "authorship_tag": "ABX9TyMjeY576EjwZzjqwJye9zDI",
      "include_colab_link": true
    },
    "kernelspec": {
      "name": "python3",
      "display_name": "Python 3"
    },
    "language_info": {
      "name": "python"
    }
  },
  "cells": [
    {
      "cell_type": "markdown",
      "metadata": {
        "id": "view-in-github",
        "colab_type": "text"
      },
      "source": [
        "<a href=\"https://colab.research.google.com/github/HyndaviRaj/Assignment-Day1/blob/main/Final_project.ipynb\" target=\"_parent\"><img src=\"https://colab.research.google.com/assets/colab-badge.svg\" alt=\"Open In Colab\"/></a>"
      ]
    },
    {
      "cell_type": "code",
      "metadata": {
        "colab": {
          "base_uri": "https://localhost:8080/"
        },
        "id": "eH6j4o-pmZqm",
        "outputId": "7787ca7c-48cb-49c4-9c36-643721ef8ac0"
      },
      "source": [
        "def c_to_f(celsius):\n",
        "  Fahrenheit = ( c*9/5)+32\n",
        "  return Fahrenheit\n",
        "\n",
        "c = int(input(\"enter celsius value : \"))\n",
        "print(c_to_f(c))\n",
        "\n"
      ],
      "execution_count": 2,
      "outputs": [
        {
          "output_type": "stream",
          "text": [
            "enter celsius value : 50\n",
            "122.0\n"
          ],
          "name": "stdout"
        }
      ]
    }
  ]
}