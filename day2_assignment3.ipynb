{
  "nbformat": 4,
  "nbformat_minor": 0,
  "metadata": {
    "colab": {
      "name": "Untitled0.ipynb",
      "provenance": [],
      "authorship_tag": "ABX9TyNlvZNoZO/XZZzhPPJ2QOoU",
      "include_colab_link": true
    },
    "kernelspec": {
      "name": "python3",
      "display_name": "Python 3"
    },
    "language_info": {
      "name": "python"
    }
  },
  "cells": [
    {
      "cell_type": "markdown",
      "metadata": {
        "id": "view-in-github",
        "colab_type": "text"
      },
      "source": [
        "<a href=\"https://colab.research.google.com/github/HyndaviRaj/Assignment-Day1/blob/main/day2_assignment3.ipynb\" target=\"_parent\"><img src=\"https://colab.research.google.com/assets/colab-badge.svg\" alt=\"Open In Colab\"/></a>"
      ]
    },
    {
      "cell_type": "code",
      "metadata": {
        "colab": {
          "base_uri": "https://localhost:8080/"
        },
        "id": "6y-X_71e221G",
        "outputId": "1357f7ba-855a-4529-8488-3c852f138671"
      },
      "source": [
        "import string\n",
        "\n",
        "inputString = input(\"Enter the string : \")\n",
        "allAlphabets = 'abcdefghijklmnopqrstuvwxyz'\n",
        "flag = 0\n",
        "\n",
        "for char in allAlphabets:\n",
        "    if char not in inputString.lower():\n",
        "        flag = 1\n",
        "if flag == 1:\n",
        "    print(\"This is not a pangram string\");\n",
        "else:\n",
        "    print(\"It is a pangram string\")"
      ],
      "execution_count": 4,
      "outputs": [
        {
          "output_type": "stream",
          "text": [
            "Enter the string : pack my box with five dozen liquor jugs\n",
            "It is a pangram string\n"
          ],
          "name": "stdout"
        }
      ]
    }
  ]
}