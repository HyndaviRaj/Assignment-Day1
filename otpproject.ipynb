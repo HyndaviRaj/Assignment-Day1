{
  "nbformat": 4,
  "nbformat_minor": 0,
  "metadata": {
    "colab": {
      "name": "Untitled2.ipynb",
      "provenance": [],
      "authorship_tag": "ABX9TyO3mYAr2JZNcq4TDHpviYEu",
      "include_colab_link": true
    },
    "kernelspec": {
      "name": "python3",
      "display_name": "Python 3"
    },
    "language_info": {
      "name": "python"
    }
  },
  "cells": [
    {
      "cell_type": "markdown",
      "metadata": {
        "id": "view-in-github",
        "colab_type": "text"
      },
      "source": [
        "<a href=\"https://colab.research.google.com/github/HyndaviRaj/Assignment-Day1/blob/main/otpproject.ipynb\" target=\"_parent\"><img src=\"https://colab.research.google.com/assets/colab-badge.svg\" alt=\"Open In Colab\"/></a>"
      ]
    },
    {
      "cell_type": "code",
      "metadata": {
        "colab": {
          "base_uri": "https://localhost:8080/"
        },
        "id": "ksb5MF5-xUD5",
        "outputId": "0dfc0ee7-96f9-4392-f5b2-0f52666e2e8b"
      },
      "source": [
        "import numpy as np\n",
        "otp = ''\n",
        "for i in range(0,6): \n",
        " x= np.random.randint(0,9) \n",
        " otp += str(x)\n",
        "print(f\"You One Time password is : {otp}\")"
      ],
      "execution_count": 1,
      "outputs": [
        {
          "output_type": "stream",
          "text": [
            "You One Time password is : 311433\n"
          ],
          "name": "stdout"
        }
      ]
    }
  ]
}